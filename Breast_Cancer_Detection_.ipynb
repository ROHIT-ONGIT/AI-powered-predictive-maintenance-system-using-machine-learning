{
  "nbformat": 4,
  "nbformat_minor": 0,
  "metadata": {
    "colab": {
      "provenance": [],
      "authorship_tag": "ABX9TyP8fdQ3895dimo8wdrU/Rrt",
      "include_colab_link": true
    },
    "kernelspec": {
      "name": "python3",
      "display_name": "Python 3"
    },
    "language_info": {
      "name": "python"
    }
  },
  "cells": [
    {
      "cell_type": "markdown",
      "metadata": {
        "id": "view-in-github",
        "colab_type": "text"
      },
      "source": [
        "<a href=\"https://colab.research.google.com/github/ROHIT-ONGIT/AI-powered-predictive-maintenance-system-with-machine-learning/blob/main/Breast_Cancer_Detection_.ipynb\" target=\"_parent\"><img src=\"https://colab.research.google.com/assets/colab-badge.svg\" alt=\"Open In Colab\"/></a>"
      ]
    },
    {
      "cell_type": "markdown",
      "source": [
        "#Breast Cancer Detection using machine learning classifier Algorithms\n"
      ],
      "metadata": {
        "id": "UjEW2Mazma-S"
      }
    },
    {
      "cell_type": "code",
      "metadata": {
        "id": "70b88cdb"
      },
      "source": [
        "import numpy as np\n",
        "import pandas as pd\n",
        "\n",
        "\n",
        "dataset = breast"
      ],
      "execution_count": null,
      "outputs": []
    }
  ]
}