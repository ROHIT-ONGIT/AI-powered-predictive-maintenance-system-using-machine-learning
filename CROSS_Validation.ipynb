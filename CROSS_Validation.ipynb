{
  "nbformat": 4,
  "nbformat_minor": 0,
  "metadata": {
    "colab": {
      "provenance": [],
      "authorship_tag": "ABX9TyMlsEAZtXJ/ARM8PSjIqBMx",
      "include_colab_link": true
    },
    "kernelspec": {
      "name": "python3",
      "display_name": "Python 3"
    },
    "language_info": {
      "name": "python"
    }
  },
  "cells": [
    {
      "cell_type": "markdown",
      "metadata": {
        "id": "view-in-github",
        "colab_type": "text"
      },
      "source": [
        "<a href=\"https://colab.research.google.com/github/ROHIT-ONGIT/AI-powered-predictive-maintenance-system-with-machine-learning/blob/main/CROSS_Validation.ipynb\" target=\"_parent\"><img src=\"https://colab.research.google.com/assets/colab-badge.svg\" alt=\"Open In Colab\"/></a>"
      ]
    },
    {
      "cell_type": "markdown",
      "source": [
        "importing the dependencies"
      ],
      "metadata": {
        "id": "WSjiUbtR4ekl"
      }
    },
    {
      "cell_type": "code",
      "source": [
        "import numpy as np\n",
        "import pandas as pd\n",
        "from sklearn.model_selection import train_test_split\n",
        "from sklearn.model_selection import cross_val_score\n",
        "import matplotlib.pyplot as plt\n",
        "from sklearn.metrics import  accuracy_score\n"
      ],
      "metadata": {
        "id": "jMcusxXP5l26"
      },
      "execution_count": 24,
      "outputs": []
    },
    {
      "cell_type": "markdown",
      "source": [
        "IMPORTING THE MODELS"
      ],
      "metadata": {
        "id": "DTWvKZfs4rLA"
      }
    },
    {
      "cell_type": "code",
      "source": [
        "from sklearn.linear_model import LogisticRegression\n",
        "from sklearn.svm import SVC\n",
        "from sklearn.neighbors import KNeighborsClassifier\n",
        "from sklearn.ensemble import RandomForestClassifier"
      ],
      "metadata": {
        "id": "96hSJZRm4vTO"
      },
      "execution_count": 25,
      "outputs": []
    },
    {
      "cell_type": "code",
      "source": [],
      "metadata": {
        "id": "z8We08eN5Vvt"
      },
      "execution_count": 25,
      "outputs": []
    },
    {
      "cell_type": "code",
      "source": [
        "df = pd.read_csv('/content/heart.csv')"
      ],
      "metadata": {
        "collapsed": true,
        "id": "CiPPxxTl-Fpl"
      },
      "execution_count": 26,
      "outputs": []
    },
    {
      "cell_type": "markdown",
      "source": [
        "Splitting the data into features and target"
      ],
      "metadata": {
        "id": "zsXtPoudaTg0"
      }
    },
    {
      "cell_type": "code",
      "source": [
        "features = df.drop(columns='target' , axis = 1 )\n",
        "target = df['target']\n",
        "\n",
        "X_train,X_test,Y_train,Y_test = train_test_split(features,target,test_size=0.2,stratify=target,random_state=2)\n"
      ],
      "metadata": {
        "id": "isV_ynKzaSRO"
      },
      "execution_count": 27,
      "outputs": []
    },
    {
      "cell_type": "markdown",
      "source": [
        "Comparing the performance of diffent models\n",
        "\n"
      ],
      "metadata": {
        "id": "hZXhx4VvCPxD"
      }
    },
    {
      "cell_type": "code",
      "source": [
        "models = [LogisticRegression(max_iter=1000),SVC(kernel='linear'),KNeighborsClassifier(),RandomForestClassifier()]"
      ],
      "metadata": {
        "id": "oKWYXyW4CXTz"
      },
      "execution_count": 28,
      "outputs": []
    },
    {
      "cell_type": "code",
      "source": [
        "def compare_models_train_test () :\n",
        "\n",
        "  for model in models :\n",
        "    model.fit(X_train,Y_train)\n",
        "\n",
        "    X_data_prediction = model.predict(X_test)\n",
        "\n",
        "    accuracy  =  accuracy_score (Y_test,X_data_prediction)\n",
        "\n",
        "    print('Accuracy of the model is ',model, '==', accuracy)\n"
      ],
      "metadata": {
        "id": "2qdwq_rDCgsa"
      },
      "execution_count": 32,
      "outputs": []
    },
    {
      "cell_type": "code",
      "source": [
        "compare_models_train_test()"
      ],
      "metadata": {
        "colab": {
          "base_uri": "https://localhost:8080/",
          "height": 0
        },
        "id": "sEUnqFctG9uZ",
        "outputId": "80f27719-ba13-4a2c-b822-6c29006b23fa"
      },
      "execution_count": 33,
      "outputs": [
        {
          "output_type": "stream",
          "name": "stdout",
          "text": [
            "Accuracy of the model is  LogisticRegression(max_iter=1000) == 0.8032786885245902\n",
            "Accuracy of the model is  SVC(kernel='linear') == 0.819672131147541\n",
            "Accuracy of the model is  KNeighborsClassifier() == 0.6229508196721312\n",
            "Accuracy of the model is  RandomForestClassifier() == 0.8032786885245902\n"
          ]
        }
      ]
    },
    {
      "cell_type": "markdown",
      "source": [
        "#CROSS - VALIDATION"
      ],
      "metadata": {
        "id": "DobPzHLVJ7on"
      }
    },
    {
      "cell_type": "code",
      "source": [
        "# here no need of train_test_split -- you can do either train_test_split or cross validation"
      ],
      "metadata": {
        "id": "zWrU7lAHJ-X8"
      },
      "execution_count": null,
      "outputs": []
    },
    {
      "cell_type": "code",
      "source": [
        "from sklearn.model_selection import cross_val_score\n",
        "\n",
        "cv_score_lr = cross_val_score (LogisticRegression(max_iter=1000),features,target,cv=5)  # cv == no. of folds\n",
        "\n",
        "\n",
        "cv_score_svc = cross_val_score (SVC(kernel='linear'),features,target,cv=5)\n",
        "\n",
        "sum = 0\n",
        "for i in cv_score_lr :\n",
        "  print(i*100)\n",
        "  sum= sum + i ;\n",
        "\n",
        "print(sum/5)"
      ],
      "metadata": {
        "colab": {
          "base_uri": "https://localhost:8080/",
          "height": 0
        },
        "id": "wAFfR_BZK02P",
        "outputId": "152f3b2e-c09b-4a66-b27b-d3dcac4b22d1"
      },
      "execution_count": 43,
      "outputs": [
        {
          "output_type": "stream",
          "name": "stdout",
          "text": [
            "80.32786885245902\n",
            "86.88524590163934\n",
            "85.24590163934425\n",
            "86.66666666666667\n",
            "75.0\n",
            "0.8282513661202187\n"
          ]
        }
      ]
    },
    {
      "cell_type": "code",
      "source": [
        "models = [LogisticRegression(max_iter=1000),SVC(kernel='linear'),KNeighborsClassifier(),RandomForestClassifier()]\n",
        "\n",
        "for model in models :\n",
        "  cv_score = cross_val_score (model,features,target,cv=5)\n",
        "  sum = 0\n",
        "  for i in cv_score :\n",
        "    sum= sum + i ;\n",
        "  print(\"Accuracy of \",model, '=',sum*20)\n"
      ],
      "metadata": {
        "colab": {
          "base_uri": "https://localhost:8080/",
          "height": 0
        },
        "id": "up4W1H_lPFBH",
        "outputId": "42f114d2-3d42-4ae8-c9b8-64e76818fcb2"
      },
      "execution_count": 45,
      "outputs": [
        {
          "output_type": "stream",
          "name": "stdout",
          "text": [
            "Accuracy of  LogisticRegression(max_iter=1000) = 82.82513661202186\n",
            "Accuracy of  SVC(kernel='linear') = 82.83060109289619\n",
            "Accuracy of  KNeighborsClassifier() = 64.38797814207649\n",
            "Accuracy of  RandomForestClassifier() = 82.49726775956285\n"
          ]
        }
      ]
    }
  ]
}